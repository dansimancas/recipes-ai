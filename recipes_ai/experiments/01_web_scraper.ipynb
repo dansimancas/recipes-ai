{
 "cells": [
  {
   "cell_type": "code",
   "execution_count": 1,
   "metadata": {},
   "outputs": [],
   "source": [
    "from selenium import webdriver\n",
    "from bs4 import BeautifulSoup\n",
    "import pandas as pd\n",
    "import re\n",
    "from tqdm.notebook import tqdm\n",
    "import urllib.request\n",
    "from pathlib import Path\n",
    "pd.set_option('display.max_colwidth', None)"
   ]
  },
  {
   "cell_type": "code",
   "execution_count": 2,
   "metadata": {},
   "outputs": [],
   "source": [
    "recipe_url_db_foodnetwork_file = Path('.') / 'recipe_url_db_foodnetwork.parquet'\n",
    "recipe_url_db_foodnetwork = pd.read_parquet(recipe_url_db_foodnetwork_file)"
   ]
  },
  {
   "cell_type": "code",
   "execution_count": 16,
   "metadata": {},
   "outputs": [
    {
     "name": "stdout",
     "output_type": "stream",
     "text": [
      "Automatic pdb calling has been turned ON\n"
     ]
    },
    {
     "data": {
      "application/vnd.jupyter.widget-view+json": {
       "model_id": "b9388a3ed23d415baa3b671af857500d",
       "version_major": 2,
       "version_minor": 0
      },
      "text/plain": [
       "HBox(children=(FloatProgress(value=0.0, max=456.0), HTML(value='')))"
      ]
     },
     "metadata": {},
     "output_type": "display_data"
    },
    {
     "name": "stdout",
     "output_type": "stream",
     "text": [
      "\n"
     ]
    }
   ],
   "source": [
    "def recipe_master_db_foodnetwork(database, img_download_path=Path('images')):\n",
    "    \n",
    "    from foodnetwork import (get_ingredients_foodnetwork, get_instructions_foodnetwork, \n",
    "                             get_images_foodnetwork, get_cooking_time_foodnetwork, \n",
    "                             get_difficulty_foodnetwork, get_tags_foodnetwork)\n",
    "    \n",
    "    \n",
    "    driver = webdriver.Chrome(\"/usr/lib/chromium-browser/chromedriver\")\n",
    "    master_data = {'name': [], 'ingredients': [], 'instructions': [], 'images': [], 'cooking_time': [], 'difficulty': [], 'tags': [], 'url': []}\n",
    "    \n",
    "    for ix, r in tqdm(database.iterrows(), total=len(database)):\n",
    "        name = r.loc['recipe_name']\n",
    "        url = r.loc['recipe_url']\n",
    "        driver.get(url)\n",
    "        page_content = BeautifulSoup(driver.page_source)\n",
    "        h1 = page_content.find('body').find('h1')\n",
    "        if h1 and re.search(\"500|404|403\", h1.text) is not None:\n",
    "            continue\n",
    "        \n",
    "        # Obtain master data\n",
    "        master_data['name'].append(name)\n",
    "        master_data['url'].append(url)\n",
    "        master_data['ingredients'].append(get_ingredients_foodnetwork(page_content))\n",
    "        master_data['instructions'].append(get_instructions_foodnetwork(page_content))\n",
    "        master_data['images'].append(get_images_foodnetwork(page_content, img_download_path, name.lower()))\n",
    "        master_data['cooking_time'].append(get_cooking_time_foodnetwork(page_content))\n",
    "        master_data['difficulty'].append(get_difficulty_foodnetwork(page_content))\n",
    "        master_data['tags'].append(get_tags_foodnetwork(page_content))\n",
    "\n",
    "    master_data_df = pd.DataFrame(master_data)\n",
    "    \n",
    "    return master_data_df\n",
    "\n",
    "master_data = recipe_master_db_foodnetwork(recipe_url_db_foodnetwork, Path('images'))"
   ]
  },
  {
   "cell_type": "code",
   "execution_count": 19,
   "metadata": {},
   "outputs": [
    {
     "data": {
      "text/plain": [
       "(456, 2)"
      ]
     },
     "execution_count": 19,
     "metadata": {},
     "output_type": "execute_result"
    }
   ],
   "source": [
    "recipe_url_db_foodnetwork.shape"
   ]
  },
  {
   "cell_type": "code",
   "execution_count": 21,
   "metadata": {},
   "outputs": [
    {
     "data": {
      "text/html": [
       "<div>\n",
       "<style scoped>\n",
       "    .dataframe tbody tr th:only-of-type {\n",
       "        vertical-align: middle;\n",
       "    }\n",
       "\n",
       "    .dataframe tbody tr th {\n",
       "        vertical-align: top;\n",
       "    }\n",
       "\n",
       "    .dataframe thead th {\n",
       "        text-align: right;\n",
       "    }\n",
       "</style>\n",
       "<table border=\"1\" class=\"dataframe\">\n",
       "  <thead>\n",
       "    <tr style=\"text-align: right;\">\n",
       "      <th></th>\n",
       "      <th>name</th>\n",
       "      <th>ingredients</th>\n",
       "      <th>instructions</th>\n",
       "      <th>images</th>\n",
       "      <th>cooking_time</th>\n",
       "      <th>difficulty</th>\n",
       "      <th>tags</th>\n",
       "      <th>url</th>\n",
       "    </tr>\n",
       "  </thead>\n",
       "  <tbody>\n",
       "    <tr>\n",
       "      <th>0</th>\n",
       "      <td>Millionaire's Shortbread</td>\n",
       "      <td>[125g butter or margarine, softened, plus extr...</td>\n",
       "      <td>[1. Preheat the oven to 180°C, gas mark 4 and ...</td>\n",
       "      <td>[https://d2v9mhsiek5lbq.cloudfront.net/eyJidWN...</td>\n",
       "      <td>25 mins</td>\n",
       "      <td>Easy</td>\n",
       "      <td>[margarine, sugar, flour, chocolate, milk, syr...</td>\n",
       "      <td>https://foodnetwork.co.uk/recipes/millionaires...</td>\n",
       "    </tr>\n",
       "    <tr>\n",
       "      <th>1</th>\n",
       "      <td>Lamb and Pea Pie</td>\n",
       "      <td>[1 tbsp sunflower oil by Sainsbury’s, 1 onion,...</td>\n",
       "      <td>[Preheat the oven to 220°C, fan 200°C, gas 7. ...</td>\n",
       "      <td>[https://d2v9mhsiek5lbq.cloudfront.net/eyJidWN...</td>\n",
       "      <td>30 mins</td>\n",
       "      <td>Easy</td>\n",
       "      <td>[oil, onion, garlic, lamb, soy sauce, mustard,...</td>\n",
       "      <td>https://foodnetwork.co.uk/recipes/lamb-and-pea...</td>\n",
       "    </tr>\n",
       "    <tr>\n",
       "      <th>2</th>\n",
       "      <td>Beef Tacos</td>\n",
       "      <td>[3/4 cup peanut oil, 12 (6-inch) yellow corn t...</td>\n",
       "      <td>[Make a taco mold by rolling out aluminum foil...</td>\n",
       "      <td>[https://d2v9mhsiek5lbq.cloudfront.net/eyJidWN...</td>\n",
       "      <td>30 mins</td>\n",
       "      <td>Medium</td>\n",
       "      <td>[peanut, tortilla, onion, sirloin, garlic, bee...</td>\n",
       "      <td>https://foodnetwork.co.uk/recipes/all-american...</td>\n",
       "    </tr>\n",
       "    <tr>\n",
       "      <th>3</th>\n",
       "      <td>Cheese and Mushroom Omelette</td>\n",
       "      <td>[4 The Co-operative British free range eggs, 6...</td>\n",
       "      <td>[1. Beat the eggs well and add in some black p...</td>\n",
       "      <td>[https://d2v9mhsiek5lbq.cloudfront.net/eyJidWN...</td>\n",
       "      <td>10 mins</td>\n",
       "      <td>Easy</td>\n",
       "      <td>[egg, cheddar, mushroom, pepper, Main Course, ...</td>\n",
       "      <td>https://foodnetwork.co.uk/recipes/cheese-and-m...</td>\n",
       "    </tr>\n",
       "    <tr>\n",
       "      <th>4</th>\n",
       "      <td>Lemongrass-Coconut Prawn and Noodles Parchment...</td>\n",
       "      <td>[4 ounces rice vermicelli noodles, 4 cups baby...</td>\n",
       "      <td>[1. Position 2 racks in the upper and lower th...</td>\n",
       "      <td>[https://d2v9mhsiek5lbq.cloudfront.net/eyJidWN...</td>\n",
       "      <td>15 mins</td>\n",
       "      <td>Easy</td>\n",
       "      <td>[vermicelli, spinach, carrot, coconut milk, cu...</td>\n",
       "      <td>https://foodnetwork.co.uk/recipes/lemongrass-c...</td>\n",
       "    </tr>\n",
       "  </tbody>\n",
       "</table>\n",
       "</div>"
      ],
      "text/plain": [
       "                                                name  \\\n",
       "0                           Millionaire's Shortbread   \n",
       "1                                   Lamb and Pea Pie   \n",
       "2                                         Beef Tacos   \n",
       "3                       Cheese and Mushroom Omelette   \n",
       "4  Lemongrass-Coconut Prawn and Noodles Parchment...   \n",
       "\n",
       "                                         ingredients  \\\n",
       "0  [125g butter or margarine, softened, plus extr...   \n",
       "1  [1 tbsp sunflower oil by Sainsbury’s, 1 onion,...   \n",
       "2  [3/4 cup peanut oil, 12 (6-inch) yellow corn t...   \n",
       "3  [4 The Co-operative British free range eggs, 6...   \n",
       "4  [4 ounces rice vermicelli noodles, 4 cups baby...   \n",
       "\n",
       "                                        instructions  \\\n",
       "0  [1. Preheat the oven to 180°C, gas mark 4 and ...   \n",
       "1  [Preheat the oven to 220°C, fan 200°C, gas 7. ...   \n",
       "2  [Make a taco mold by rolling out aluminum foil...   \n",
       "3  [1. Beat the eggs well and add in some black p...   \n",
       "4  [1. Position 2 racks in the upper and lower th...   \n",
       "\n",
       "                                              images cooking_time difficulty  \\\n",
       "0  [https://d2v9mhsiek5lbq.cloudfront.net/eyJidWN...      25 mins       Easy   \n",
       "1  [https://d2v9mhsiek5lbq.cloudfront.net/eyJidWN...      30 mins       Easy   \n",
       "2  [https://d2v9mhsiek5lbq.cloudfront.net/eyJidWN...      30 mins     Medium   \n",
       "3  [https://d2v9mhsiek5lbq.cloudfront.net/eyJidWN...      10 mins       Easy   \n",
       "4  [https://d2v9mhsiek5lbq.cloudfront.net/eyJidWN...      15 mins       Easy   \n",
       "\n",
       "                                                tags  \\\n",
       "0  [margarine, sugar, flour, chocolate, milk, syr...   \n",
       "1  [oil, onion, garlic, lamb, soy sauce, mustard,...   \n",
       "2  [peanut, tortilla, onion, sirloin, garlic, bee...   \n",
       "3  [egg, cheddar, mushroom, pepper, Main Course, ...   \n",
       "4  [vermicelli, spinach, carrot, coconut milk, cu...   \n",
       "\n",
       "                                                 url  \n",
       "0  https://foodnetwork.co.uk/recipes/millionaires...  \n",
       "1  https://foodnetwork.co.uk/recipes/lamb-and-pea...  \n",
       "2  https://foodnetwork.co.uk/recipes/all-american...  \n",
       "3  https://foodnetwork.co.uk/recipes/cheese-and-m...  \n",
       "4  https://foodnetwork.co.uk/recipes/lemongrass-c...  "
      ]
     },
     "execution_count": 21,
     "metadata": {},
     "output_type": "execute_result"
    }
   ],
   "source": [
    "master_data[0].head()"
   ]
  }
 ],
 "metadata": {
  "kernelspec": {
   "display_name": "Python 3",
   "language": "python",
   "name": "python3"
  },
  "language_info": {
   "codemirror_mode": {
    "name": "ipython",
    "version": 3
   },
   "file_extension": ".py",
   "mimetype": "text/x-python",
   "name": "python",
   "nbconvert_exporter": "python",
   "pygments_lexer": "ipython3",
   "version": "3.7.7"
  }
 },
 "nbformat": 4,
 "nbformat_minor": 4
}
